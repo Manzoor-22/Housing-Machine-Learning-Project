{
 "cells": [
  {
   "cell_type": "code",
   "execution_count": 13,
   "id": "722dabb3",
   "metadata": {},
   "outputs": [],
   "source": [
    "from joblib import dump, load\n",
    "import numpy as np\n",
    "model = load('Project.joblib')"
   ]
  },
  {
   "cell_type": "code",
   "execution_count": 14,
   "id": "6f5c0e11",
   "metadata": {},
   "outputs": [
    {
     "data": {
      "text/plain": [
       "array([22.423])"
      ]
     },
     "execution_count": 14,
     "metadata": {},
     "output_type": "execute_result"
    }
   ],
   "source": [
    "features = np.array([[-2.43942006,  3.12628155, -1.12165014, 288.27288841, -1.42262747,\n",
    "       -0.24141041, -1.31238772,  15.61111401, -1.0016859 , -0.5778192 ,\n",
    "       -0.97491834,  47.41164221, -0.86091034]])\n",
    "model.predict(features)"
   ]
  },
  {
   "cell_type": "code",
   "execution_count": null,
   "id": "d9a940c9",
   "metadata": {},
   "outputs": [],
   "source": []
  }
 ],
 "metadata": {
  "kernelspec": {
   "display_name": "Python 3 (ipykernel)",
   "language": "python",
   "name": "python3"
  },
  "language_info": {
   "codemirror_mode": {
    "name": "ipython",
    "version": 3
   },
   "file_extension": ".py",
   "mimetype": "text/x-python",
   "name": "python",
   "nbconvert_exporter": "python",
   "pygments_lexer": "ipython3",
   "version": "3.12.1"
  }
 },
 "nbformat": 4,
 "nbformat_minor": 5
}
